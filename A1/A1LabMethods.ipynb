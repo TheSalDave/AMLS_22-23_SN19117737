{
 "cells": [
  {
   "cell_type": "code",
   "execution_count": 1,
   "metadata": {},
   "outputs": [
    {
     "name": "stdout",
     "output_type": "stream",
     "text": [
      "C:\\Users\\salda\\Documents\\Tanulas\\4th_year\\ELEC0134_AMLS1\\dataset_AMLS_22-23\\celeba\\img not found\n"
     ]
    },
    {
     "ename": "PermissionError",
     "evalue": "[Errno 13] Permission denied: 'C:\\\\Users\\\\salda\\\\Documents\\\\Tanulas\\\\4th_year\\\\ELEC0134_AMLS1\\\\dataset_AMLS_22-23\\\\celeba\\\\img'",
     "output_type": "error",
     "traceback": [
      "\u001b[1;31m---------------------------------------------------------------------------\u001b[0m",
      "\u001b[1;31mPermissionError\u001b[0m                           Traceback (most recent call last)",
      "Cell \u001b[1;32mIn[1], line 39\u001b[0m\n\u001b[0;32m     35\u001b[0m     \u001b[39mprint\u001b[39m(pred)\n\u001b[0;32m     37\u001b[0m     \u001b[39mprint\u001b[39m(\u001b[39m\"\u001b[39m\u001b[39mAccuracy:\u001b[39m\u001b[39m\"\u001b[39m, accuracy_score(test_labels, pred))\n\u001b[1;32m---> 39\u001b[0m tr_X, tr_Y, te_X, te_Y\u001b[39m=\u001b[39m get_data()\n\u001b[0;32m     42\u001b[0m pred\u001b[39m=\u001b[39mimg_SVM(tr_X\u001b[39m.\u001b[39mreshape((\u001b[39m100\u001b[39m, \u001b[39m68\u001b[39m\u001b[39m*\u001b[39m\u001b[39m2\u001b[39m)), \u001b[39mlist\u001b[39m(\u001b[39mzip\u001b[39m(\u001b[39m*\u001b[39mtr_Y))[\u001b[39m0\u001b[39m], te_X\u001b[39m.\u001b[39mreshape((\u001b[39m36\u001b[39m, \u001b[39m68\u001b[39m\u001b[39m*\u001b[39m\u001b[39m2\u001b[39m)), \u001b[39mlist\u001b[39m(\u001b[39mzip\u001b[39m(\u001b[39m*\u001b[39mte_Y))[\u001b[39m0\u001b[39m])\n",
      "Cell \u001b[1;32mIn[1], line 16\u001b[0m, in \u001b[0;36mget_data\u001b[1;34m()\u001b[0m\n\u001b[0;32m     14\u001b[0m \u001b[39mdef\u001b[39;00m \u001b[39mget_data\u001b[39m():\n\u001b[1;32m---> 16\u001b[0m     X, y \u001b[39m=\u001b[39m l2\u001b[39m.\u001b[39;49mextract_features_labels()\n\u001b[0;32m     18\u001b[0m     Y \u001b[39m=\u001b[39m np\u001b[39m.\u001b[39marray([y, \u001b[39m-\u001b[39m(y \u001b[39m-\u001b[39m \u001b[39m1\u001b[39m)])\u001b[39m.\u001b[39mT\n\u001b[0;32m     19\u001b[0m     tr_X \u001b[39m=\u001b[39m X[:\u001b[39m100\u001b[39m]\n",
      "File \u001b[1;32m~\\Documents\\Tanulas\\4th_year\\ELEC0134_AMLS1\\AMLS1Project\\AMLS1Project\\lab2_landmarks.py:118\u001b[0m, in \u001b[0;36mextract_features_labels\u001b[1;34m()\u001b[0m\n\u001b[0;32m    115\u001b[0m file_name\u001b[39m=\u001b[39m os\u001b[39m.\u001b[39mpath\u001b[39m.\u001b[39mbasename(img_path)\u001b[39m.\u001b[39msplit(\u001b[39m\"\u001b[39m\u001b[39m.\u001b[39m\u001b[39m\"\u001b[39m)[\u001b[39m0\u001b[39m]\n\u001b[0;32m    116\u001b[0m \u001b[39m# load image\u001b[39;00m\n\u001b[0;32m    117\u001b[0m img \u001b[39m=\u001b[39m image\u001b[39m.\u001b[39mimg_to_array(\n\u001b[1;32m--> 118\u001b[0m     image\u001b[39m.\u001b[39;49mload_img(img_path,\n\u001b[0;32m    119\u001b[0m                    target_size\u001b[39m=\u001b[39;49mtarget_size,\n\u001b[0;32m    120\u001b[0m                    interpolation\u001b[39m=\u001b[39;49m\u001b[39m'\u001b[39;49m\u001b[39mbicubic\u001b[39;49m\u001b[39m'\u001b[39;49m))\n\u001b[0;32m    121\u001b[0m features, _ \u001b[39m=\u001b[39m run_dlib_shape(img)\n\u001b[0;32m    122\u001b[0m \u001b[39mif\u001b[39;00m features \u001b[39mis\u001b[39;00m \u001b[39mnot\u001b[39;00m \u001b[39mNone\u001b[39;00m:\n",
      "File \u001b[1;32mc:\\Users\\salda\\Anaconda3\\lib\\site-packages\\keras_preprocessing\\image\\utils.py:113\u001b[0m, in \u001b[0;36mload_img\u001b[1;34m(path, grayscale, color_mode, target_size, interpolation)\u001b[0m\n\u001b[0;32m    110\u001b[0m \u001b[39mif\u001b[39;00m pil_image \u001b[39mis\u001b[39;00m \u001b[39mNone\u001b[39;00m:\n\u001b[0;32m    111\u001b[0m     \u001b[39mraise\u001b[39;00m \u001b[39mImportError\u001b[39;00m(\u001b[39m'\u001b[39m\u001b[39mCould not import PIL.Image. \u001b[39m\u001b[39m'\u001b[39m\n\u001b[0;32m    112\u001b[0m                       \u001b[39m'\u001b[39m\u001b[39mThe use of `load_img` requires PIL.\u001b[39m\u001b[39m'\u001b[39m)\n\u001b[1;32m--> 113\u001b[0m \u001b[39mwith\u001b[39;00m \u001b[39mopen\u001b[39;49m(path, \u001b[39m'\u001b[39;49m\u001b[39mrb\u001b[39;49m\u001b[39m'\u001b[39;49m) \u001b[39mas\u001b[39;00m f:\n\u001b[0;32m    114\u001b[0m     img \u001b[39m=\u001b[39m pil_image\u001b[39m.\u001b[39mopen(io\u001b[39m.\u001b[39mBytesIO(f\u001b[39m.\u001b[39mread()))\n\u001b[0;32m    115\u001b[0m     \u001b[39mif\u001b[39;00m color_mode \u001b[39m==\u001b[39m \u001b[39m'\u001b[39m\u001b[39mgrayscale\u001b[39m\u001b[39m'\u001b[39m:\n\u001b[0;32m    116\u001b[0m         \u001b[39m# if image is not already an 8-bit, 16-bit or 32-bit grayscale image\u001b[39;00m\n\u001b[0;32m    117\u001b[0m         \u001b[39m# convert it to an 8-bit grayscale image.\u001b[39;00m\n",
      "\u001b[1;31mPermissionError\u001b[0m: [Errno 13] Permission denied: 'C:\\\\Users\\\\salda\\\\Documents\\\\Tanulas\\\\4th_year\\\\ELEC0134_AMLS1\\\\dataset_AMLS_22-23\\\\celeba\\\\img'"
     ]
    }
   ],
   "source": [
    "import numpy as np\n",
    "import matplotlib.pyplot as plt\n",
    "from sklearn import svm, datasets\n",
    "from sklearn.svm import SVC\n",
    "from sklearn.model_selection import train_test_split\n",
    "from sklearn.utils import shuffle\n",
    "from sklearn.metrics import classification_report,accuracy_score\n",
    "import pandas as pd\n",
    "from os.path import join\n",
    "from importlib.machinery import SourceFileLoader\n",
    "somemodule = SourceFileLoader('lab2_landmarks', r'C:\\Users\\salda\\Documents\\Tanulas\\4th_year\\ELEC0134_AMLS1\\AMLS1Project\\AMLS1Project\\lab2_landmarks.py').load_module()\n",
    "import lab2_landmarks as l2\n",
    "\n",
    "def get_data():\n",
    "    \n",
    "    X, y = l2.extract_features_labels()\n",
    "    \n",
    "    Y = np.array([y, -(y - 1)]).T\n",
    "    tr_X = X[:100]\n",
    "    tr_Y = Y[:100]\n",
    "    te_X = X[100:]\n",
    "    te_Y = Y[100:]\n",
    "\n",
    "    return tr_X, tr_Y, te_X, te_Y\n",
    "\n",
    "# sklearn functions implementation\n",
    "\n",
    "def img_SVM(training_images, training_labels, test_images, test_labels):\n",
    "    classifier = svm.SVC(kernel='linear')\n",
    "\n",
    "    classifier.fit(training_images, training_labels)\n",
    "\n",
    "    pred = classifier.predict(test_images)\n",
    "\n",
    "    print(pred)\n",
    "\n",
    "    print(\"Accuracy:\", accuracy_score(test_labels, pred))\n",
    "\n",
    "tr_X, tr_Y, te_X, te_Y= get_data()\n",
    "\n",
    "\n",
    "pred=img_SVM(tr_X.reshape((100, 68*2)), list(zip(*tr_Y))[0], te_X.reshape((36, 68*2)), list(zip(*te_Y))[0])"
   ]
  }
 ],
 "metadata": {
  "kernelspec": {
   "display_name": "base",
   "language": "python",
   "name": "python3"
  },
  "language_info": {
   "codemirror_mode": {
    "name": "ipython",
    "version": 3
   },
   "file_extension": ".py",
   "mimetype": "text/x-python",
   "name": "python",
   "nbconvert_exporter": "python",
   "pygments_lexer": "ipython3",
   "version": "3.8.15"
  },
  "orig_nbformat": 4,
  "vscode": {
   "interpreter": {
    "hash": "46e15f0a20b01b5e7b3d2303595ec1fb614ea694c3cb8ab880785308549109f8"
   }
  }
 },
 "nbformat": 4,
 "nbformat_minor": 2
}
